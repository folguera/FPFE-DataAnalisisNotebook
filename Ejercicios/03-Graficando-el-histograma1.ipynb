{
 "cells": [
  {
   "cell_type": "markdown",
   "metadata": {},
   "source": [
    "# Graficando el histograma de masa invariante"
   ]
  },
  {
   "cell_type": "markdown",
   "metadata": {},
   "source": [
    "En este ejercicio se aprenderá a graficar el histograma de masa invariante con Python. Usaremos los datos recolectados por el detector CMS en 2011 [1]. Eventos con criterios específicos [2] han sido seleccionados en el archivo CSV \"DoubleMuRun2011A.csv\" que estamos usando. \n",
    "\n",
    "Explore las diferentes casillas de código abajo y ejecútelas. Hay que notar que normalmente el código no tendría tantos comentarios como en estas casillas. La razón de los comentarios es para explicar brevemente el código. \n",
    "\n",
    "<br>\n",
    "<br>\n",
    "<br>\n",
    "[1] CMS collaboration (2016). DoubleMu primary dataset in AOD format from RunA of 2011 (/DoubleMu/Run2011A-12Oct2013-v1/AOD). CERN Open Data Portal. DOI: [10.7483/OPENDATA.CMS.RZ34.QR6N](http://doi.org/10.7483/OPENDATA.CMS.RZ34.QR6N).\n",
    "<br>[2] Thomas McCauley (2016). Dimuon. Jupyter Notebook file. https://github.com/tpmccauley/cmsopendata-jupyter/blob/hst-0.1/Dimuon.ipynb."
   ]
  },
  {
   "cell_type": "markdown",
   "metadata": {},
   "source": [
    "### 1) Start"
   ]
  },
  {
   "cell_type": "code",
   "execution_count": 1,
   "metadata": {},
   "outputs": [],
   "source": [
    "# Importar los módulos necesarios. Pandas para el análisis de datos, numpy para cálculos científicos. \n",
    "# Y matplotlib.pyplot para hacer gráficas. Los módulos son nombrados como pd, np y plt. \n",
    "import pandas as pd\n",
    "import numpy as np\n",
    "import matplotlib.pyplot as plt\n",
    "\n",
    "# Jupyter Notebook utiliza \"funciones mágicas\". Con esta función es posible \n",
    "# graficar el histograma directamente al cuaderno que estamos usando. \n",
    "%matplotlib inline"
   ]
  },
  {
   "cell_type": "markdown",
   "metadata": {},
   "source": [
    "### 2) Obteniendo los datos"
   ]
  },
  {
   "cell_type": "code",
   "execution_count": 2,
   "metadata": {},
   "outputs": [],
   "source": [
    "# Crear un nuevo marco de datos desde el archivo \"DoubleMuRun2011A.csv\"\n",
    "dataset = pd.read_csv('../Datos/Dimuon_DoubleMu.csv')\n",
    "\n",
    "# Crear una estructura de series (básicamente una lista) y nombrarla como \"masa_invariante\".\n",
    "# Guardar la columna \"M\" desde la variable \"dataset\" a la variable \"masa_invariante\".\n",
    "masa_invariante = dataset['M']"
   ]
  },
  {
   "cell_type": "markdown",
   "metadata": {},
   "source": [
    "### 3) Preparando el histograma"
   ]
  },
  {
   "cell_type": "code",
   "execution_count": 6,
   "metadata": {},
   "outputs": [],
   "source": [
    "# Establecer el número de casillas del histograma.\n",
    "nr_bins = 400\n",
    "\n",
    "# Obtener el operador de división mejorado para Python 2. Si no se importa, el operador de división \n",
    "# de Python 2 solo dará números enteros. \n",
    "from __future__ import division\n",
    "\n",
    "# Ponderar los valores del histogramas. \n",
    "weights = []\n",
    "for a in masa_invariante:\n",
    "    weights.append(nr_bins/np.log(10)/a)\n",
    "\n",
    "# Tomar el log10 de todos los valores en la variable \"invariant_mass\"\n",
    "masa_invariante_log = np.log10(masa_invariante)"
   ]
  },
  {
   "cell_type": "markdown",
   "metadata": {},
   "source": [
    "### 4) Gráficando el histograma ponderado"
   ]
  },
  {
   "cell_type": "code",
   "execution_count": 7,
   "metadata": {},
   "outputs": [
    {
     "data": {
      "image/png": "[encoded data removed]",
      "text/plain": [
       "<Figure size 432x288 with 1 Axes>"
      ]
     },
     "metadata": {
      "needs_background": "light"
     },
     "output_type": "display_data"
    }
   ],
   "source": [
    "# Graficar el histograma con la función plt.hist() del módulo matplotlib.pyplot.\n",
    "# \"bins\" determina el número de casillas utilizadas, \"range\" determina los límites del eje x\n",
    "# y \"weights\" determina los factores de ponderación para el histograma\n",
    "plt.hist(masa_invariante_log, bins=nr_bins, range=(-0.5,2.5), weights=weights)\n",
    "\n",
    "# Establecer el eje y con escala logarítmica. \n",
    "plt.yscale('log')\n",
    "plt.show()"
   ]
  },
  {
   "cell_type": "markdown",
   "metadata": {},
   "source": [
    "### 5) Graficando el histograma sin los factores de ponderación"
   ]
  },
  {
   "cell_type": "code",
   "execution_count": 8,
   "metadata": {},
   "outputs": [
    {
     "data": {
      "image/png": "[encoded data removed]",
      "text/plain": [
       "<Figure size 432x288 with 1 Axes>"
      ]
     },
     "metadata": {
      "needs_background": "light"
     },
     "output_type": "display_data"
    }
   ],
   "source": [
    "plt.hist(masa_invariante_log, bins=nr_bins, range=(-0.5,2.5))\n",
    "\n",
    "plt.yscale('log')\n",
    "plt.show()"
   ]
  },
  {
   "cell_type": "code",
   "execution_count": null,
   "metadata": {
    "collapsed": true
   },
   "outputs": [],
   "source": []
  }
 ],
 "metadata": {
  "kernelspec": {
   "display_name": "Python 3",
   "language": "python",
   "name": "python3"
  },
  "language_info": {
   "codemirror_mode": {
    "name": "ipython",
    "version": 3
   },
   "file_extension": ".py",
   "mimetype": "text/x-python",
   "name": "python",
   "nbconvert_exporter": "python",
   "pygments_lexer": "ipython3",
   "version": "3.8.6"
  }
 },
 "nbformat": 4,
 "nbformat_minor": 1
}
